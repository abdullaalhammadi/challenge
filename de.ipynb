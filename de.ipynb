{
 "cells": [
  {
   "cell_type": "code",
   "execution_count": 40,
   "metadata": {},
   "outputs": [],
   "source": [
    "## The only packages we would need for this pipeline are `Requests`, `os`, `Pandas`, `SQLite`, and `Streamlit`.\n",
    "## Requests is to make HTTP requests to fetch the data from REST API endpoints\n",
    "## And Pandas is for data transformations and wrangling.\n",
    "\n",
    "import requests\n",
    "import pandas as pd\n",
    "import os\n",
    "\n",
    "key = os.getenv('API_KEY')\n",
    "\n",
    "response = requests.get(\"https://jsonplaceholder.typicode.com/users\").json()\n",
    "\n",
    "columns=['customer_id',\n",
    "        'name',\n",
    "        'username',\n",
    "        'email',\n",
    "        'lat',\n",
    "        'lng']\n",
    "\n",
    "users = pd.DataFrame(columns=columns)\n",
    "i = 0\n",
    "\n",
    "for rec in response:\n",
    "    users.loc[i] = ([rec['id'],\n",
    "                     rec['name'],\n",
    "                     rec['username'], \n",
    "                     rec['email'],\n",
    "                     rec['address']['geo']['lat'],\n",
    "                     rec['address']['geo']['lng']])\n",
    "    i += 1\n",
    "\n",
    "sales = pd.read_csv('./data/sales_data.csv').merge(users, on='customer_id')"
   ]
  }
 ],
 "metadata": {
  "kernelspec": {
   "display_name": "Python 3",
   "language": "python",
   "name": "python3"
  },
  "language_info": {
   "codemirror_mode": {
    "name": "ipython",
    "version": 3
   },
   "file_extension": ".py",
   "mimetype": "text/x-python",
   "name": "python",
   "nbconvert_exporter": "python",
   "pygments_lexer": "ipython3",
   "version": "3.10.5"
  },
  "orig_nbformat": 4
 },
 "nbformat": 4,
 "nbformat_minor": 2
}
