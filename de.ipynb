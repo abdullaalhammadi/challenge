{
 "cells": [
  {
   "cell_type": "code",
   "execution_count": 112,
   "metadata": {},
   "outputs": [
    {
     "name": "stdout",
     "output_type": "stream",
     "text": [
      "<class 'str'>\n"
     ]
    }
   ],
   "source": [
    "## The only packages we would need for this pipeline are `Requests`, `os`, `Pandas`, `SQLite`, and `Streamlit`.\n",
    "## Requests is to make HTTP requests to fetch the data from REST API endpoints\n",
    "## And Pandas is for data transformations and wrangling.\n",
    "\n",
    "import requests\n",
    "import pandas as pd\n",
    "import os\n",
    "\n",
    "key = os.getenv('API_KEY')\n",
    "\n",
    "users = (pd.json_normalize(requests\n",
    "            .get(\"https://jsonplaceholder.typicode.com/users\")\n",
    "            .json(), sep=\"_\")[[\"id\",\n",
    "                               \"name\",\n",
    "                               \"username\",\n",
    "                               \"email\",\n",
    "                               \"address_geo_lat\",\n",
    "                               \"address_geo_lng\"]]\n",
    "                                   .rename(\n",
    "                                       columns=\n",
    "                                       {\n",
    "                                            \"id\": \"customer_id\",\n",
    "                                            \"address_geo_lat\": \"lat\",\n",
    "                                            \"address_geo_lng\": \"lon\"\n",
    "                                    }\n",
    "                                )\n",
    "                            )\n",
    "\n",
    "merged = (pd.read_csv(\"./data/sales_data.csv\")\n",
    "          .merge(users, on='customer_id'))\n",
    "\n",
    "lat = users.iloc[0][\"lat\"]\n",
    "\n",
    "print(type(lat))"
   ]
  }
 ],
 "metadata": {
  "kernelspec": {
   "display_name": "Python 3",
   "language": "python",
   "name": "python3"
  },
  "language_info": {
   "codemirror_mode": {
    "name": "ipython",
    "version": 3
   },
   "file_extension": ".py",
   "mimetype": "text/x-python",
   "name": "python",
   "nbconvert_exporter": "python",
   "pygments_lexer": "ipython3",
   "version": "3.10.5"
  },
  "orig_nbformat": 4
 },
 "nbformat": 4,
 "nbformat_minor": 2
}
