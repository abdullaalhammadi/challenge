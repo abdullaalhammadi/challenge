{
 "cells": [
  {
   "cell_type": "code",
   "execution_count": 30,
   "metadata": {},
   "outputs": [
    {
     "data": {
      "text/plain": [
       "{'coord': {'lon': 62.5342, 'lat': -31.8129},\n",
       " 'weather': [{'id': 802,\n",
       "   'main': 'Clouds',\n",
       "   'description': 'scattered clouds',\n",
       "   'icon': '03n'}],\n",
       " 'base': 'stations',\n",
       " 'main': {'temp': 292.2,\n",
       "  'feels_like': 292.01,\n",
       "  'temp_min': 292.2,\n",
       "  'temp_max': 292.2,\n",
       "  'pressure': 1033,\n",
       "  'humidity': 71,\n",
       "  'sea_level': 1033,\n",
       "  'grnd_level': 1033},\n",
       " 'visibility': 10000,\n",
       " 'wind': {'speed': 7.83, 'deg': 61, 'gust': 7.78},\n",
       " 'clouds': {'all': 44},\n",
       " 'dt': 1685900986,\n",
       " 'sys': {'sunrise': 1685846584, 'sunset': 1685883206},\n",
       " 'timezone': 14400,\n",
       " 'id': 0,\n",
       " 'name': '',\n",
       " 'cod': 200}"
      ]
     },
     "execution_count": 30,
     "metadata": {},
     "output_type": "execute_result"
    }
   ],
   "source": [
    "## The only packages we would need for this pipeline are `Requests`, `os`, `Pandas`, `SQLite`, and `Streamlit`.\n",
    "## Requests is to make HTTP requests to fetch the data from REST API endpoints\n",
    "## And Pandas is for data transformations and wrangling.\n",
    "\n",
    "import requests\n",
    "import pandas as pd\n",
    "import os\n",
    "\n",
    "key = os.getenv('API_KEY')\n",
    "\n",
    "response = requests.get(\"https://jsonplaceholder.typicode.com/users\").json()\n",
    "\n",
    "columns=['customer_id',\n",
    "        'name',\n",
    "        'username',\n",
    "        'email',\n",
    "        'lat',\n",
    "        'lng']\n",
    "\n",
    "users = pd.DataFrame(columns=columns)\n",
    "\n",
    "i = 0\n",
    "\n",
    "for rec in response:\n",
    "    users.loc[i] = ([rec['id'],\n",
    "                     rec['name'],\n",
    "                     rec['username'], \n",
    "                     rec['email'],\n",
    "                     rec['address']['geo']['lat'],\n",
    "                     rec['address']['geo']['lng']])\n",
    "    i += 1\n",
    "\n",
    "sales = pd.read_csv('sales_data.csv').merge(users, on='customer_id')\n",
    "\n",
    "(requests\n",
    " .get('https://api.openweathermap.org/data/2.5/weather?lat={lat}&lon={lon}&appid={key}'\n",
    "      .format(key=key, lat=-31.8129\t, lon=62.5342))\n",
    "      .json())"
   ]
  }
 ],
 "metadata": {
  "kernelspec": {
   "display_name": "Python 3",
   "language": "python",
   "name": "python3"
  },
  "language_info": {
   "codemirror_mode": {
    "name": "ipython",
    "version": 3
   },
   "file_extension": ".py",
   "mimetype": "text/x-python",
   "name": "python",
   "nbconvert_exporter": "python",
   "pygments_lexer": "ipython3",
   "version": "3.10.5"
  },
  "orig_nbformat": 4
 },
 "nbformat": 4,
 "nbformat_minor": 2
}
